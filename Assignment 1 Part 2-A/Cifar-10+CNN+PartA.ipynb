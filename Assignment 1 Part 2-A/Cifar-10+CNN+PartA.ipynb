{
 "cells": [
  {
   "cell_type": "code",
   "execution_count": 1,
   "metadata": {},
   "outputs": [
    {
     "name": "stderr",
     "output_type": "stream",
     "text": [
      "Using TensorFlow backend.\n"
     ]
    }
   ],
   "source": [
    "from __future__ import print_function\n",
    "import keras\n",
    "from keras.datasets import cifar10\n",
    "from keras.preprocessing.image import ImageDataGenerator\n",
    "from keras.models import Sequential\n",
    "from keras.layers import Dense, Dropout, Activation, Flatten\n",
    "from keras.layers import Conv2D, MaxPooling2D"
   ]
  },
  {
   "cell_type": "code",
   "execution_count": 2,
   "metadata": {
    "collapsed": true
   },
   "outputs": [],
   "source": [
    "import os\n",
    "import pickle\n",
    "import numpy as np\n",
    "import json"
   ]
  },
  {
   "cell_type": "code",
   "execution_count": 3,
   "metadata": {
    "collapsed": true
   },
   "outputs": [],
   "source": [
    "batch_size = 32\n",
    "num_classes = 10\n",
    "epochs = 10\n",
    "data_augmentation = True\n",
    "num_predictions = 20\n",
    "save_dir = os.path.join(os.getcwd(), 'saved_models')\n",
    "model_name = 'keras_cifar10_trained_model.h5'"
   ]
  },
  {
   "cell_type": "code",
   "execution_count": 4,
   "metadata": {},
   "outputs": [
    {
     "name": "stdout",
     "output_type": "stream",
     "text": [
      "x_train shape: (50000, 32, 32, 3)\n",
      "50000 train samples\n",
      "10000 test samples\n"
     ]
    }
   ],
   "source": [
    "(x_train, y_train), (x_test, y_test) = cifar10.load_data()\n",
    "print('x_train shape:', x_train.shape)\n",
    "print(x_train.shape[0], 'train samples')\n",
    "print(x_test.shape[0], 'test samples')"
   ]
  },
  {
   "cell_type": "code",
   "execution_count": 5,
   "metadata": {
    "collapsed": true
   },
   "outputs": [],
   "source": [
    "y_train = keras.utils.to_categorical(y_train, num_classes)\n",
    "y_test = keras.utils.to_categorical(y_test, num_classes)"
   ]
  },
  {
   "cell_type": "code",
   "execution_count": 6,
   "metadata": {
    "collapsed": true
   },
   "outputs": [],
   "source": [
    "model = Sequential()"
   ]
  },
  {
   "cell_type": "code",
   "execution_count": 7,
   "metadata": {},
   "outputs": [],
   "source": [
    "\"\"\" keras.layers.convolutional.Conv2D(filters, kernel_size, strides=(1, 1), padding='valid', \n",
    "                                      activation=None, \n",
    "                                      use_bias=True, kernel_initializer='glorot_uniform', bias_initializer='zeros', \n",
    "                                      kernel_regularizer=None, bias_regularizer=None, activity_regularizer=None)\"\"\"\n",
    "\n",
    "model.add(Conv2D(32, (3, 3), padding='same',strides = (2,2), input_shape=x_train.shape[1:], use_bias=True )) #32 feature maps with a size of 3*3\n",
    "model.add(Activation('relu'))\n",
    "model.add(Conv2D(32, (3, 3)))\n",
    "model.add(Activation('relu'))\n",
    "model.add(MaxPooling2D(pool_size=(2, 2)))\n",
    "model.add(Dropout(0.25))"
   ]
  },
  {
   "cell_type": "code",
   "execution_count": 8,
   "metadata": {},
   "outputs": [],
   "source": [
    "model.add(Conv2D(64, (3, 3), padding='same')) #64 feature maps with a size of 3*3\n",
    "model.add(Activation('relu'))\n",
    "model.add(Conv2D(64, (3, 3)))\n",
    "model.add(Activation('relu'))\n",
    "model.add(MaxPooling2D(pool_size=(2, 2)))\n",
    "model.add(Dropout(0.25))"
   ]
  },
  {
   "cell_type": "code",
   "execution_count": 9,
   "metadata": {},
   "outputs": [],
   "source": [
    "model.add(Flatten())\n",
    "model.add(Dense(512))\n",
    "model.add(Activation('relu'))\n",
    "model.add(Dropout(0.5))\n",
    "model.add(Dense(num_classes))\n",
    "model.add(Activation('softmax'))"
   ]
  },
  {
   "cell_type": "code",
   "execution_count": 10,
   "metadata": {},
   "outputs": [],
   "source": [
    "# initiate SGD optimizer\n",
    "sgd = keras.optimizers.SGD(lr=0.1, decay=1e-6, momentum=0.9)"
   ]
  },
  {
   "cell_type": "code",
   "execution_count": 11,
   "metadata": {
    "collapsed": true
   },
   "outputs": [],
   "source": [
    "# Let's train the model using RMSprop\n",
    "model.compile(loss='categorical_crossentropy',\n",
    "              optimizer=sgd,\n",
    "              metrics=['accuracy'])"
   ]
  },
  {
   "cell_type": "code",
   "execution_count": 12,
   "metadata": {
    "collapsed": true
   },
   "outputs": [],
   "source": [
    "x_train = x_train.astype('float32')\n",
    "x_test = x_test.astype('float32')\n",
    "x_train /= 255\n",
    "x_test /= 255"
   ]
  },
  {
   "cell_type": "code",
   "execution_count": 13,
   "metadata": {},
   "outputs": [
    {
     "name": "stdout",
     "output_type": "stream",
     "text": [
      "Using real-time data augmentation.\n"
     ]
    }
   ],
   "source": [
    "if not data_augmentation:\n",
    "    print('Not using data augmentation.')\n",
    "    model.fit(x_train, y_train,\n",
    "              batch_size=batch_size,\n",
    "              epochs=epochs,\n",
    "              validation_data=(x_test, y_test),\n",
    "              shuffle=True)\n",
    "else:\n",
    "    print('Using real-time data augmentation.')\n",
    "    # This will do preprocessing and realtime data augmentation:\n",
    "    datagen = ImageDataGenerator(\n",
    "        featurewise_center=False,  # set input mean to 0 over the dataset\n",
    "        samplewise_center=False,  # set each sample mean to 0\n",
    "        featurewise_std_normalization=False,  # divide inputs by std of the dataset\n",
    "        samplewise_std_normalization=False,  # divide each input by its std\n",
    "        zca_whitening=False,  # apply ZCA whitening\n",
    "        rotation_range=0,  # randomly rotate images in the range (degrees, 0 to 180)\n",
    "        width_shift_range=0.1,  # randomly shift images horizontally (fraction of total width)\n",
    "        height_shift_range=0.1,  # randomly shift images vertically (fraction of total height)\n",
    "        horizontal_flip=True,  # randomly flip images\n",
    "        vertical_flip=False)  # randomly flip images"
   ]
  },
  {
   "cell_type": "code",
   "execution_count": 14,
   "metadata": {
    "collapsed": true
   },
   "outputs": [],
   "source": [
    "# Compute quantities required for feature-wise normalization\n",
    "# (std, mean, and principal components if ZCA whitening is applied).\n",
    "datagen.fit(x_train)"
   ]
  },
  {
   "cell_type": "code",
   "execution_count": 15,
   "metadata": {},
   "outputs": [
    {
     "name": "stdout",
     "output_type": "stream",
     "text": [
      "Epoch 1/10\n",
      "1562/1562 [==============================] - 63s - loss: 1.6056 - acc: 0.4156 - val_loss: 1.3368 - val_acc: 0.5212\n",
      "Epoch 2/10\n",
      "1562/1562 [==============================] - 60s - loss: 1.2664 - acc: 0.5479 - val_loss: 1.0989 - val_acc: 0.6093\n",
      "Epoch 3/10\n",
      "1562/1562 [==============================] - 60s - loss: 1.1596 - acc: 0.5952 - val_loss: 1.0756 - val_acc: 0.6356\n",
      "Epoch 4/10\n",
      "1562/1562 [==============================] - 60s - loss: 1.1173 - acc: 0.6097 - val_loss: 0.9512 - val_acc: 0.6759\n",
      "Epoch 5/10\n",
      "1562/1562 [==============================] - 60s - loss: 1.1061 - acc: 0.6229 - val_loss: 1.0514 - val_acc: 0.6384\n",
      "Epoch 6/10\n",
      "1562/1562 [==============================] - 60s - loss: 1.1140 - acc: 0.6224 - val_loss: 0.9342 - val_acc: 0.6931\n",
      "Epoch 7/10\n",
      "1562/1562 [==============================] - 59s - loss: 1.1520 - acc: 0.6161 - val_loss: 1.1073 - val_acc: 0.6488\n",
      "Epoch 8/10\n",
      "1562/1562 [==============================] - 59s - loss: 1.1751 - acc: 0.6086 - val_loss: 1.0213 - val_acc: 0.6655\n",
      "Epoch 9/10\n",
      "1562/1562 [==============================] - 60s - loss: 1.1925 - acc: 0.6048 - val_loss: 1.0373 - val_acc: 0.6598\n",
      "Epoch 10/10\n",
      "1562/1562 [==============================] - 59s - loss: 1.2114 - acc: 0.5961 - val_loss: 1.0442 - val_acc: 0.6466\n"
     ]
    },
    {
     "data": {
      "text/plain": [
       "<keras.callbacks.History at 0x7fb375df6e90>"
      ]
     },
     "execution_count": 15,
     "metadata": {},
     "output_type": "execute_result"
    }
   ],
   "source": [
    "# Fit the model on the batches generated by datagen.flow(). Used filter size of 2*2\n",
    "model.fit_generator(datagen.flow(x_train, y_train, batch_size=batch_size),\n",
    "                    steps_per_epoch=x_train.shape[0] // batch_size,\n",
    "                    epochs=epochs,\n",
    "                    validation_data=(x_test, y_test),\n",
    "                    workers=4)"
   ]
  },
  {
   "cell_type": "code",
   "execution_count": 16,
   "metadata": {},
   "outputs": [
    {
     "name": "stdout",
     "output_type": "stream",
     "text": [
      "Epoch 1/10\n",
      "1562/1562 [==============================] - 58s - loss: 1.6623 - acc: 0.3954 - val_loss: 1.5514 - val_acc: 0.4643\n",
      "Epoch 2/10\n",
      "1562/1562 [==============================] - 57s - loss: 1.3129 - acc: 0.5342 - val_loss: 1.1195 - val_acc: 0.6084\n",
      "Epoch 3/10\n",
      "1562/1562 [==============================] - 56s - loss: 1.2048 - acc: 0.5762 - val_loss: 0.9853 - val_acc: 0.6513.5\n",
      "Epoch 4/10\n",
      "1562/1562 [==============================] - 56s - loss: 1.1597 - acc: 0.5983 - val_loss: 1.0049 - val_acc: 0.6736\n",
      "Epoch 5/10\n",
      "1562/1562 [==============================] - 56s - loss: 1.1480 - acc: 0.6068 - val_loss: 0.9828 - val_acc: 0.6543\n",
      "Epoch 6/10\n",
      "1562/1562 [==============================] - 56s - loss: 1.1469 - acc: 0.6098 - val_loss: 0.9226 - val_acc: 0.6903\n",
      "Epoch 7/10\n",
      "1562/1562 [==============================] - 55s - loss: 1.1580 - acc: 0.6078 - val_loss: 1.1525 - val_acc: 0.6108\n",
      "Epoch 8/10\n",
      "1562/1562 [==============================] - 55s - loss: 1.1804 - acc: 0.6027 - val_loss: 1.1054 - val_acc: 0.6382\n",
      "Epoch 9/10\n",
      "1562/1562 [==============================] - 55s - loss: 1.2108 - acc: 0.5982 - val_loss: 1.0715 - val_acc: 0.6479\n",
      "Epoch 10/10\n",
      "1562/1562 [==============================] - 56s - loss: 1.2402 - acc: 0.5872 - val_loss: 0.9966 - val_acc: 0.6557\n"
     ]
    },
    {
     "data": {
      "text/plain": [
       "<keras.callbacks.History at 0x7f18613cfe90>"
      ]
     },
     "execution_count": 16,
     "metadata": {},
     "output_type": "execute_result"
    }
   ],
   "source": [
    "# Filter size of 2*2 ans strides (2,2)\n",
    "model.fit_generator(datagen.flow(x_train, y_train, batch_size=batch_size),\n",
    "                    steps_per_epoch=x_train.shape[0] // batch_size,\n",
    "                    epochs=epochs,\n",
    "                    validation_data=(x_test, y_test),\n",
    "                    workers=4)"
   ]
  },
  {
   "cell_type": "code",
   "execution_count": 15,
   "metadata": {},
   "outputs": [
    {
     "name": "stdout",
     "output_type": "stream",
     "text": [
      "Epoch 1/10\n",
      "1562/1562 [==============================] - 139s - loss: 1.6668 - acc: 0.3889 - val_loss: 1.2337 - val_acc: 0.5571\n",
      "Epoch 2/10\n",
      "1562/1562 [==============================] - 134s - loss: 1.3163 - acc: 0.5337 - val_loss: 1.0655 - val_acc: 0.6223\n",
      "Epoch 3/10\n",
      "1562/1562 [==============================] - 133s - loss: 1.2025 - acc: 0.5808 - val_loss: 1.0603 - val_acc: 0.6259\n",
      "Epoch 4/10\n",
      "1562/1562 [==============================] - 134s - loss: 1.1635 - acc: 0.6007 - val_loss: 0.9142 - val_acc: 0.6773\n",
      "Epoch 5/10\n",
      "1562/1562 [==============================] - 131s - loss: 1.1401 - acc: 0.6104 - val_loss: 0.9240 - val_acc: 0.6838\n",
      "Epoch 6/10\n",
      "1562/1562 [==============================] - 121s - loss: 1.1496 - acc: 0.6106 - val_loss: 0.9453 - val_acc: 0.6750\n",
      "Epoch 7/10\n",
      "1562/1562 [==============================] - 133s - loss: nan - acc: 0.2630 - val_loss: nan - val_acc: 0.1000\n",
      "Epoch 8/10\n",
      "1562/1562 [==============================] - 174s - loss: nan - acc: 0.1000 - val_loss: nan - val_acc: 0.1000\n",
      "Epoch 9/10\n",
      "1562/1562 [==============================] - 171s - loss: nan - acc: 0.1001 - val_loss: nan - val_acc: 0.1000\n",
      "Epoch 10/10\n",
      "1562/1562 [==============================] - 171s - loss: nan - acc: 0.1000 - val_loss: nan - val_acc: 0.1000\n"
     ]
    },
    {
     "data": {
      "text/plain": [
       "<keras.callbacks.History at 0x7fd8a1b5dc90>"
      ]
     },
     "execution_count": 15,
     "metadata": {},
     "output_type": "execute_result"
    }
   ],
   "source": [
    "# Fit the model on the batches generated by datagen.flow(). Used filter size of 3*3 and activation function of 'relu' and 'sigmoid'\n",
    "model.fit_generator(datagen.flow(x_train, y_train, batch_size=batch_size),\n",
    "                    steps_per_epoch=x_train.shape[0] // batch_size,\n",
    "                    epochs=epochs,\n",
    "                    validation_data=(x_test, y_test),\n",
    "                    workers=4)"
   ]
  },
  {
   "cell_type": "code",
   "execution_count": null,
   "metadata": {
    "collapsed": true
   },
   "outputs": [],
   "source": [
    "# Save model and weights\n",
    "def save_model(model):\n",
    " \n",
    "   model_json = model.to_json()\n",
    "   open('cifar10_architecture.json', 'w').write(model_json)\n",
    "   model.save_weights('cifar10_weights.h5', overwrite=True)"
   ]
  },
  {
   "cell_type": "code",
   "execution_count": 17,
   "metadata": {
    "collapsed": true
   },
   "outputs": [],
   "source": [
    "# Load label names to use in prediction results\n",
    "label_list_path = 'datasets/cifar-10-batches-py/batches.meta'\n",
    "\n",
    "\n",
    "keras_dir = os.path.expanduser(os.path.join('~', '.keras'))\n",
    "datadir_base = os.path.expanduser(keras_dir)\n",
    "if not os.access(datadir_base, os.W_OK):\n",
    "    datadir_base = os.path.join('/tmp', '.keras')\n",
    "label_list_path = os.path.join(datadir_base, label_list_path)\n",
    "\n",
    "with open(label_list_path, mode='rb') as f:\n",
    "    labels = pickle.load(f)\n"
   ]
  },
  {
   "cell_type": "code",
   "execution_count": 17,
   "metadata": {},
   "outputs": [
    {
     "name": "stdout",
     "output_type": "stream",
     "text": [
      "Model Accuracy = 0.62\n",
      "Actual Label = cat vs. Predicted Label = frog\n",
      "Actual Label = ship vs. Predicted Label = airplane\n",
      "Actual Label = ship vs. Predicted Label = airplane\n",
      "Actual Label = airplane vs. Predicted Label = cat\n",
      "Actual Label = frog vs. Predicted Label = deer\n",
      "Actual Label = frog vs. Predicted Label = horse\n",
      "Actual Label = automobile vs. Predicted Label = frog\n",
      "Actual Label = frog vs. Predicted Label = cat\n",
      "Actual Label = cat vs. Predicted Label = automobile\n",
      "Actual Label = automobile vs. Predicted Label = automobile\n",
      "Actual Label = airplane vs. Predicted Label = cat\n",
      "Actual Label = truck vs. Predicted Label = frog\n",
      "Actual Label = dog vs. Predicted Label = ship\n",
      "Actual Label = horse vs. Predicted Label = dog\n",
      "Actual Label = truck vs. Predicted Label = deer\n",
      "Actual Label = ship vs. Predicted Label = bird\n",
      "Actual Label = dog vs. Predicted Label = frog\n",
      "Actual Label = horse vs. Predicted Label = bird\n",
      "Actual Label = ship vs. Predicted Label = truck\n",
      "Actual Label = frog vs. Predicted Label = frog\n",
      "Actual Label = horse vs. Predicted Label = bird\n"
     ]
    }
   ],
   "source": [
    "# Evaluate model with test data set and share sample prediction results\n",
    "# Results for 32 and 64 filters of size 2*2, stride of 1 and padding = same (zeros).\n",
    "\n",
    "evaluation = model.evaluate_generator(datagen.flow(x_test, y_test,\n",
    "                                                   batch_size=batch_size,\n",
    "                                                   shuffle=False),\n",
    "                                      steps=x_test.shape[0] // batch_size,\n",
    "                                      workers=4)\n",
    "print('Model Accuracy = %.2f' % (evaluation[1]))\n",
    "\n",
    "predict_gen = model.predict_generator(datagen.flow(x_test, y_test,\n",
    "                                                   batch_size=batch_size,\n",
    "                                                   shuffle=False),\n",
    "                                      steps=x_test.shape[0] // batch_size,\n",
    "                                      workers=4)\n",
    "\n",
    "for predict_index, predicted_y in enumerate(predict_gen):\n",
    "    actual_label = labels['label_names'][np.argmax(y_test[predict_index])]\n",
    "    predicted_label = labels['label_names'][np.argmax(predicted_y)]\n",
    "    print('Actual Label = %s vs. Predicted Label = %s' % (actual_label,\n",
    "                                                          predicted_label))\n",
    "    if predict_index == num_predictions:\n",
    "        break"
   ]
  },
  {
   "cell_type": "code",
   "execution_count": 18,
   "metadata": {},
   "outputs": [
    {
     "name": "stdout",
     "output_type": "stream",
     "text": [
      "Model Accuracy = 0.64\n",
      "Actual Label = cat vs. Predicted Label = frog\n",
      "Actual Label = ship vs. Predicted Label = airplane\n",
      "Actual Label = ship vs. Predicted Label = airplane\n",
      "Actual Label = airplane vs. Predicted Label = frog\n",
      "Actual Label = frog vs. Predicted Label = deer\n",
      "Actual Label = frog vs. Predicted Label = dog\n",
      "Actual Label = automobile vs. Predicted Label = frog\n",
      "Actual Label = frog vs. Predicted Label = cat\n",
      "Actual Label = cat vs. Predicted Label = automobile\n",
      "Actual Label = automobile vs. Predicted Label = automobile\n",
      "Actual Label = airplane vs. Predicted Label = bird\n",
      "Actual Label = truck vs. Predicted Label = frog\n",
      "Actual Label = dog vs. Predicted Label = ship\n",
      "Actual Label = horse vs. Predicted Label = dog\n",
      "Actual Label = truck vs. Predicted Label = deer\n",
      "Actual Label = ship vs. Predicted Label = airplane\n",
      "Actual Label = dog vs. Predicted Label = frog\n",
      "Actual Label = horse vs. Predicted Label = bird\n",
      "Actual Label = ship vs. Predicted Label = automobile\n",
      "Actual Label = frog vs. Predicted Label = cat\n",
      "Actual Label = horse vs. Predicted Label = airplane\n"
     ]
    }
   ],
   "source": [
    "# Evaluate model with test data set and share sample prediction results\n",
    "# Results for 32 and 64 filters of size 2*2, stride of 1 and padding = valid (No padding.\n",
    "\n",
    "evaluation = model.evaluate_generator(datagen.flow(x_test, y_test,\n",
    "                                                   batch_size=batch_size,\n",
    "                                                   shuffle=False),\n",
    "                                      steps=x_test.shape[0] // batch_size,\n",
    "                                      workers=4)\n",
    "print('Model Accuracy = %.2f' % (evaluation[1]))\n",
    "\n",
    "predict_gen = model.predict_generator(datagen.flow(x_test, y_test,\n",
    "                                                   batch_size=batch_size,\n",
    "                                                   shuffle=False),\n",
    "                                      steps=x_test.shape[0] // batch_size,\n",
    "                                      workers=4)\n",
    "\n",
    "for predict_index, predicted_y in enumerate(predict_gen):\n",
    "    actual_label = labels['label_names'][np.argmax(y_test[predict_index])]\n",
    "    predicted_label = labels['label_names'][np.argmax(predicted_y)]\n",
    "    print('Actual Label = %s vs. Predicted Label = %s' % (actual_label,\n",
    "                                                          predicted_label))\n",
    "    if predict_index == num_predictions:\n",
    "        break"
   ]
  }
 ],
 "metadata": {
  "kernelspec": {
   "display_name": "Python 2 with Spark 2.0",
   "language": "python",
   "name": "python2-spark20"
  },
  "language_info": {
   "codemirror_mode": {
    "name": "ipython",
    "version": 2
   },
   "file_extension": ".py",
   "mimetype": "text/x-python",
   "name": "python",
   "nbconvert_exporter": "python",
   "pygments_lexer": "ipython2",
   "version": "2.7.11"
  }
 },
 "nbformat": 4,
 "nbformat_minor": 1
}
