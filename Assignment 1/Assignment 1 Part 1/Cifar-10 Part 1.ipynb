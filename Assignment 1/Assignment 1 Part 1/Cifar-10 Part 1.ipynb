{
 "cells": [
  {
   "cell_type": "code",
   "execution_count": 1,
   "metadata": {},
   "outputs": [],
   "source": [
    "#importing the required libraries\n",
    "import numpy as np\n",
    "import matplotlib as mpl\n",
    "import matplotlib.pyplot as plt\n",
    "import seaborn as sns # prettier plots\n",
    "sns.set_style('white') # get rid of the grids"
   ]
  },
  {
   "cell_type": "code",
   "execution_count": 2,
   "metadata": {
    "collapsed": true
   },
   "outputs": [],
   "source": [
    "from __future__ import print_function\n",
    "np.random.seed(1289)"
   ]
  },
  {
   "cell_type": "code",
   "execution_count": 3,
   "metadata": {},
   "outputs": [
    {
     "name": "stderr",
     "output_type": "stream",
     "text": [
      "Using TensorFlow backend.\n"
     ]
    }
   ],
   "source": [
    "import keras\n",
    "from keras.datasets import cifar10\n",
    "from keras.models import Sequential\n",
    "from keras.layers import Dense, Dropout\n",
    "from keras.optimizers import RMSprop\n",
    "from keras import optimizers"
   ]
  },
  {
   "cell_type": "code",
   "execution_count": 4,
   "metadata": {
    "collapsed": true
   },
   "outputs": [],
   "source": [
    "(x_train, y_train), (x_test, y_test) = cifar10.load_data()"
   ]
  },
  {
   "cell_type": "code",
   "execution_count": 5,
   "metadata": {},
   "outputs": [
    {
     "name": "stdout",
     "output_type": "stream",
     "text": [
      "x_train shape: (50000, 3072)\n",
      "50000 train samples\n",
      "10000 test samples\n"
     ]
    }
   ],
   "source": [
    "# the data, shuffled and split between train and test sets\n",
    "(x_train, y_train), (x_test, y_test) = cifar10.load_data()\n",
    "x_train = x_train.reshape(50000, 3072)\n",
    "x_test = x_test.reshape(10000, 3072)\n",
    "print('x_train shape:', x_train.shape)\n",
    "print(x_train.shape[0], 'train samples')\n",
    "print(x_test.shape[0], 'test samples')\n",
    "x_train = x_train.astype('float32')\n",
    "x_test = x_test.astype('float32')\n",
    "x_train /= 255\n",
    "x_test /= 255\n"
   ]
  },
  {
   "cell_type": "code",
   "execution_count": 6,
   "metadata": {
    "collapsed": true
   },
   "outputs": [],
   "source": [
    "y_train = keras.utils.to_categorical(y_train, 10) #num_classes = number of classes we need it to be divided into\n",
    "y_test = keras.utils.to_categorical(y_test, 10)"
   ]
  },
  {
   "cell_type": "code",
   "execution_count": 7,
   "metadata": {},
   "outputs": [],
   "source": [
    "model = Sequential()\n",
    "model.add(Dense(154, activation='relu', input_shape=(3072,)))\n",
    "model.add(Dropout(0.25))\n",
    "model.add(Dense(154, activation='relu'))\n",
    "model.add(Dropout(0.25))\n",
    "model.add(Dense(10, activation='softmax'))\n"
   ]
  },
  {
   "cell_type": "code",
   "execution_count": 8,
   "metadata": {},
   "outputs": [
    {
     "name": "stdout",
     "output_type": "stream",
     "text": [
      "_________________________________________________________________\n",
      "Layer (type)                 Output Shape              Param #   \n",
      "=================================================================\n",
      "dense_1 (Dense)              (None, 154)               473242    \n",
      "_________________________________________________________________\n",
      "dropout_1 (Dropout)          (None, 154)               0         \n",
      "_________________________________________________________________\n",
      "dense_2 (Dense)              (None, 154)               23870     \n",
      "_________________________________________________________________\n",
      "dropout_2 (Dropout)          (None, 154)               0         \n",
      "_________________________________________________________________\n",
      "dense_3 (Dense)              (None, 10)                1550      \n",
      "=================================================================\n",
      "Total params: 498,662\n",
      "Trainable params: 498,662\n",
      "Non-trainable params: 0\n",
      "_________________________________________________________________\n"
     ]
    }
   ],
   "source": [
    "model.summary()"
   ]
  },
  {
   "cell_type": "code",
   "execution_count": 9,
   "metadata": {},
   "outputs": [],
   "source": [
    "opt = keras.optimizers.rmsprop(lr=0.0001, decay=1e-6)\n",
    "\n",
    "# Let's train the model using RMSprop\n",
    "model.compile(loss='categorical_crossentropy',\n",
    "              optimizer=opt,\n",
    "              metrics=['accuracy'])\n",
    "#sgd = SGD(lr=0.01, decay=0.01/25, momentum=0.9, nesterov=False)\n",
    "\n",
    "#adam = Adam(lr=0.001, beta_1=0.9, beta_2=0.999, epsilon=1e-08, decay=0.0)\n",
    "#model.compile(loss='categorical_crossentropy',optimizer=sgd,metrics=['accuracy'])"
   ]
  },
  {
   "cell_type": "code",
   "execution_count": 13,
   "metadata": {},
   "outputs": [
    {
     "name": "stdout",
     "output_type": "stream",
     "text": [
      "Train on 50000 samples, validate on 10000 samples\n",
      "Epoch 1/15\n",
      "50000/50000 [==============================] - 3s - loss: 1.3147 - acc: 0.5372 - val_loss: 1.3359 - val_acc: 0.5244\n",
      "Epoch 2/15\n",
      "50000/50000 [==============================] - 3s - loss: 1.3223 - acc: 0.5347 - val_loss: 1.3496 - val_acc: 0.5224\n",
      "Epoch 3/15\n",
      "50000/50000 [==============================] - 3s - loss: 1.3144 - acc: 0.5345 - val_loss: 1.3369 - val_acc: 0.5268\n",
      "Epoch 4/15\n",
      "50000/50000 [==============================] - 3s - loss: 1.3122 - acc: 0.5350 - val_loss: 1.3672 - val_acc: 0.5165\n",
      "Epoch 5/15\n",
      "50000/50000 [==============================] - 3s - loss: 1.3082 - acc: 0.5385 - val_loss: 1.3279 - val_acc: 0.5332\n",
      "Epoch 6/15\n",
      "50000/50000 [==============================] - 3s - loss: 1.3063 - acc: 0.5385 - val_loss: 1.3452 - val_acc: 0.5208\n",
      "Epoch 7/15\n",
      "50000/50000 [==============================] - 3s - loss: 1.3102 - acc: 0.5378 - val_loss: 1.3294 - val_acc: 0.5337\n",
      "Epoch 8/15\n",
      "50000/50000 [==============================] - 3s - loss: 1.3040 - acc: 0.5399 - val_loss: 1.3548 - val_acc: 0.5218\n",
      "Epoch 9/15\n",
      "50000/50000 [==============================] - 3s - loss: 1.2998 - acc: 0.5374 - val_loss: 1.3439 - val_acc: 0.5250\n",
      "Epoch 10/15\n",
      "50000/50000 [==============================] - 3s - loss: 1.3019 - acc: 0.5392 - val_loss: 1.3333 - val_acc: 0.5296\n",
      "Epoch 11/15\n",
      "50000/50000 [==============================] - 3s - loss: 1.3036 - acc: 0.5390 - val_loss: 1.3396 - val_acc: 0.5246\n",
      "Epoch 12/15\n",
      "50000/50000 [==============================] - 3s - loss: 1.2982 - acc: 0.5388 - val_loss: 1.3342 - val_acc: 0.5306\n",
      "Epoch 13/15\n",
      "50000/50000 [==============================] - 3s - loss: 1.2943 - acc: 0.5422 - val_loss: 1.3297 - val_acc: 0.5339\n",
      "Epoch 14/15\n",
      "50000/50000 [==============================] - 3s - loss: 1.2947 - acc: 0.5414 - val_loss: 1.3355 - val_acc: 0.5311\n",
      "Epoch 15/15\n",
      "50000/50000 [==============================] - 3s - loss: 1.2996 - acc: 0.5387 - val_loss: 1.3402 - val_acc: 0.5251\n",
      "Test loss: 1.34020956993\n",
      "Test accuracy: 0.5251\n"
     ]
    }
   ],
   "source": [
    "history = model.fit(x_train, y_train,\n",
    "                    batch_size=1000,\n",
    "                    epochs=15,\n",
    "                    verbose=1,\n",
    "                    validation_data=(x_test, y_test))\n",
    "score = model.evaluate(x_test, y_test, verbose=0)\n",
    "print('Test loss:', score[0])\n",
    "print('Test accuracy:', score[1])"
   ]
  },
  {
   "cell_type": "code",
   "execution_count": null,
   "metadata": {
    "collapsed": true
   },
   "outputs": [],
   "source": []
  },
  {
   "cell_type": "code",
   "execution_count": 15,
   "metadata": {
    "scrolled": false
   },
   "outputs": [
    {
     "name": "stdout",
     "output_type": "stream",
     "text": [
      "Train on 50000 samples, validate on 10000 samples\n",
      "Epoch 1/20\n",
      "50000/50000 [==============================] - 8s - loss: 1.5616 - acc: 0.4388 - val_loss: 1.4848 - val_acc: 0.4650\n",
      "Epoch 2/20\n",
      "50000/50000 [==============================] - 8s - loss: 1.5443 - acc: 0.4409 - val_loss: 1.4956 - val_acc: 0.4568\n",
      "Epoch 3/20\n",
      "50000/50000 [==============================] - 8s - loss: 1.5307 - acc: 0.4473 - val_loss: 1.4837 - val_acc: 0.4715\n",
      "Epoch 4/20\n",
      "50000/50000 [==============================] - 8s - loss: 1.5282 - acc: 0.4502 - val_loss: 1.4886 - val_acc: 0.4758\n",
      "Epoch 5/20\n",
      "50000/50000 [==============================] - 8s - loss: 1.4962 - acc: 0.4608 - val_loss: 1.4606 - val_acc: 0.4753\n",
      "Epoch 6/20\n",
      "50000/50000 [==============================] - 8s - loss: 1.4947 - acc: 0.4631 - val_loss: 1.4334 - val_acc: 0.4918\n",
      "Epoch 7/20\n",
      "50000/50000 [==============================] - 8s - loss: 1.4613 - acc: 0.4732 - val_loss: 1.4413 - val_acc: 0.4802\n",
      "Epoch 8/20\n",
      "50000/50000 [==============================] - 8s - loss: 1.4481 - acc: 0.4793 - val_loss: 1.4120 - val_acc: 0.4993\n",
      "Epoch 9/20\n",
      "50000/50000 [==============================] - 7s - loss: 1.4522 - acc: 0.4777 - val_loss: 1.4288 - val_acc: 0.4923\n",
      "Epoch 10/20\n",
      "50000/50000 [==============================] - 7s - loss: 1.4290 - acc: 0.4842 - val_loss: 1.4410 - val_acc: 0.4921\n",
      "Epoch 11/20\n",
      "50000/50000 [==============================] - 7s - loss: 1.4285 - acc: 0.4867 - val_loss: 1.3874 - val_acc: 0.5087\n",
      "Epoch 12/20\n",
      "50000/50000 [==============================] - 7s - loss: 1.4062 - acc: 0.4963 - val_loss: 1.3778 - val_acc: 0.5136\n",
      "Epoch 13/20\n",
      "50000/50000 [==============================] - 7s - loss: 1.4058 - acc: 0.4941 - val_loss: 1.3895 - val_acc: 0.5031\n",
      "Epoch 14/20\n",
      "50000/50000 [==============================] - 7s - loss: 1.3955 - acc: 0.4977 - val_loss: 1.3848 - val_acc: 0.5064\n",
      "Epoch 15/20\n",
      "50000/50000 [==============================] - 7s - loss: 1.3858 - acc: 0.5015 - val_loss: 1.4140 - val_acc: 0.4952\n",
      "Epoch 16/20\n",
      "50000/50000 [==============================] - 8s - loss: 1.3917 - acc: 0.5016 - val_loss: 1.3978 - val_acc: 0.4994\n",
      "Epoch 17/20\n",
      "50000/50000 [==============================] - 8s - loss: 1.3699 - acc: 0.5089 - val_loss: 1.3830 - val_acc: 0.5097\n",
      "Epoch 18/20\n",
      "50000/50000 [==============================] - 7s - loss: 1.3558 - acc: 0.5102 - val_loss: 1.3759 - val_acc: 0.5085\n",
      "Epoch 19/20\n",
      "50000/50000 [==============================] - 8s - loss: 1.3561 - acc: 0.5124 - val_loss: 1.3762 - val_acc: 0.5070\n",
      "Epoch 20/20\n",
      "50000/50000 [==============================] - 7s - loss: 1.3521 - acc: 0.5136 - val_loss: 1.3873 - val_acc: 0.5046\n",
      "Test loss: 1.38733628082\n",
      "Test accuracy: 0.5046\n"
     ]
    }
   ],
   "source": [
    "# ACTIVATION FUNCTION : ADAM, other paramertes unchanged\n",
    "history = model.fit(x_train, y_train,\n",
    "                    batch_size=128,\n",
    "                    epochs=20,\n",
    "                    verbose=1,\n",
    "                    validation_data=(x_test, y_test))\n",
    "score = model.evaluate(x_test, y_test, verbose=0)\n",
    "print('Test loss:', score[0])\n",
    "print('Test accuracy:', score[1])"
   ]
  },
  {
   "cell_type": "code",
   "execution_count": 11,
   "metadata": {},
   "outputs": [
    {
     "name": "stdout",
     "output_type": "stream",
     "text": [
      "Train on 50000 samples, validate on 10000 samples\n",
      "Epoch 1/15\n",
      "50000/50000 [==============================] - 22s - loss: 1.7467 - acc: 0.3773 - val_loss: 1.6734 - val_acc: 0.4021\n",
      "Epoch 2/15\n",
      "50000/50000 [==============================] - 20s - loss: 1.6996 - acc: 0.3960 - val_loss: 1.5984 - val_acc: 0.4306\n",
      "Epoch 3/15\n",
      "50000/50000 [==============================] - 20s - loss: 1.6606 - acc: 0.4085 - val_loss: 1.5992 - val_acc: 0.4337\n",
      "Epoch 4/15\n",
      "50000/50000 [==============================] - 21s - loss: 1.6326 - acc: 0.4206 - val_loss: 1.5976 - val_acc: 0.4336\n",
      "Epoch 5/15\n",
      "50000/50000 [==============================] - 20s - loss: 1.6080 - acc: 0.4280 - val_loss: 1.5214 - val_acc: 0.4551\n",
      "Epoch 6/15\n",
      "50000/50000 [==============================] - 20s - loss: 1.5887 - acc: 0.4381 - val_loss: 1.5205 - val_acc: 0.4607\n",
      "Epoch 7/15\n",
      "50000/50000 [==============================] - 20s - loss: 1.5703 - acc: 0.4419 - val_loss: 1.5465 - val_acc: 0.4525\n",
      "Epoch 8/15\n",
      "50000/50000 [==============================] - 20s - loss: 1.5482 - acc: 0.4520 - val_loss: 1.5087 - val_acc: 0.4617\n",
      "Epoch 9/15\n",
      "50000/50000 [==============================] - 20s - loss: 1.5404 - acc: 0.4503 - val_loss: 1.4908 - val_acc: 0.4754\n",
      "Epoch 10/15\n",
      "50000/50000 [==============================] - 20s - loss: 1.5271 - acc: 0.4592 - val_loss: 1.4749 - val_acc: 0.4739\n",
      "Epoch 11/15\n",
      "50000/50000 [==============================] - 20s - loss: 1.5127 - acc: 0.4638 - val_loss: 1.4632 - val_acc: 0.4755\n",
      "Epoch 12/15\n",
      "50000/50000 [==============================] - 20s - loss: 1.4996 - acc: 0.4697 - val_loss: 1.4499 - val_acc: 0.4943\n",
      "Epoch 13/15\n",
      "50000/50000 [==============================] - 20s - loss: 1.4882 - acc: 0.4719 - val_loss: 1.4368 - val_acc: 0.4876\n",
      "Epoch 14/15\n",
      "50000/50000 [==============================] - 20s - loss: 1.4776 - acc: 0.4758 - val_loss: 1.4934 - val_acc: 0.4718\n",
      "Epoch 15/15\n",
      "50000/50000 [==============================] - 20s - loss: 1.4652 - acc: 0.4807 - val_loss: 1.5605 - val_acc: 0.4483\n",
      "Test loss: 1.56048819637\n",
      "Test accuracy: 0.4483\n"
     ]
    }
   ],
   "source": [
    "history = model.fit(x_train, y_train,\n",
    "                    batch_size=32,\n",
    "                    epochs=15,\n",
    "                    verbose=1,\n",
    "                    validation_data=(x_test, y_test))\n",
    "score = model.evaluate(x_test, y_test, verbose=0)\n",
    "print('Test loss:', score[0])\n",
    "print('Test accuracy:', score[1])"
   ]
  }
 ],
 "metadata": {
  "kernelspec": {
   "display_name": "Python 2 with Spark 2.0",
   "language": "python",
   "name": "python2-spark20"
  },
  "language_info": {
   "codemirror_mode": {
    "name": "ipython",
    "version": 2
   },
   "file_extension": ".py",
   "mimetype": "text/x-python",
   "name": "python",
   "nbconvert_exporter": "python",
   "pygments_lexer": "ipython2",
   "version": "2.7.11"
  }
 },
 "nbformat": 4,
 "nbformat_minor": 1
}
