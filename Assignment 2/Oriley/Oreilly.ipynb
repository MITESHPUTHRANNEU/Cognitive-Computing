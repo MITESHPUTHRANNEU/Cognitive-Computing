{
 "cells": [
  {
   "cell_type": "code",
   "execution_count": 3,
   "metadata": {
    "collapsed": true
   },
   "outputs": [],
   "source": [
    "import gym"
   ]
  },
  {
   "cell_type": "code",
   "execution_count": 4,
   "metadata": {
    "collapsed": true
   },
   "outputs": [],
   "source": [
    "env = gym.make(\"Taxi-v2\")"
   ]
  },
  {
   "cell_type": "code",
   "execution_count": 5,
   "metadata": {},
   "outputs": [
    {
     "data": {
      "text/plain": [
       "149"
      ]
     },
     "execution_count": 5,
     "metadata": {},
     "output_type": "execute_result"
    }
   ],
   "source": [
    "env.reset()"
   ]
  },
  {
   "cell_type": "code",
   "execution_count": 6,
   "metadata": {},
   "outputs": [
    {
     "data": {
      "text/plain": [
       "500"
      ]
     },
     "execution_count": 6,
     "metadata": {},
     "output_type": "execute_result"
    }
   ],
   "source": [
    "env.observation_space.n"
   ]
  },
  {
   "cell_type": "code",
   "execution_count": 7,
   "metadata": {},
   "outputs": [
    {
     "name": "stdout",
     "output_type": "stream",
     "text": [
      "+---------+\n",
      "|R: | : :\u001b[35mG\u001b[0m|\n",
      "| : :\u001b[43m \u001b[0m: : |\n",
      "| : : : : |\n",
      "| | : | : |\n",
      "|\u001b[34;1mY\u001b[0m| : |B: |\n",
      "+---------+\n",
      "\n"
     ]
    }
   ],
   "source": [
    "env.render()"
   ]
  },
  {
   "cell_type": "code",
   "execution_count": 8,
   "metadata": {},
   "outputs": [
    {
     "data": {
      "text/plain": [
       "6"
      ]
     },
     "execution_count": 8,
     "metadata": {},
     "output_type": "execute_result"
    }
   ],
   "source": [
    "env.action_space.n"
   ]
  },
  {
   "cell_type": "code",
   "execution_count": 14,
   "metadata": {},
   "outputs": [
    {
     "name": "stdout",
     "output_type": "stream",
     "text": [
      "+---------+\n",
      "|\u001b[35m\u001b[34;1mR\u001b[0m\u001b[0m: | : :G|\n",
      "| :\u001b[43m \u001b[0m: : : |\n",
      "| : : : : |\n",
      "| | : | : |\n",
      "|Y| : |B: |\n",
      "+---------+\n",
      "  (North)\n"
     ]
    }
   ],
   "source": [
    "env.env.s = 120\n",
    "env.render()"
   ]
  },
  {
   "cell_type": "code",
   "execution_count": 15,
   "metadata": {},
   "outputs": [
    {
     "name": "stdout",
     "output_type": "stream",
     "text": [
      "+---------+\n",
      "|\u001b[35m\u001b[34;1mR\u001b[0m\u001b[0m:\u001b[43m \u001b[0m| : :G|\n",
      "| : : : : |\n",
      "| : : : : |\n",
      "| | : | : |\n",
      "|Y| : |B: |\n",
      "+---------+\n",
      "  (North)\n",
      "(20, -1, False, {'prob': 1.0})\n"
     ]
    }
   ],
   "source": [
    "#possible actions are: down (0), up (1), right (2), left (3), pick-up (4), and drop-off (5).\n",
    "_a=env.step(1)\n",
    "env.render()\n",
    "print(_a)\n",
    "#state, reward, done, info"
   ]
  },
  {
   "cell_type": "code",
   "execution_count": 16,
   "metadata": {},
   "outputs": [
    {
     "name": "stdout",
     "output_type": "stream",
     "text": [
      "2359\n"
     ]
    }
   ],
   "source": [
    "state = env.reset()\n",
    "counter = 0\n",
    "reward = None\n",
    "while reward != 20:\n",
    "    state, reward, done, info = env.step(env.action_space.sample())\n",
    "    counter += 1\n",
    "\n",
    "print(counter)"
   ]
  },
  {
   "cell_type": "code",
   "execution_count": 17,
   "metadata": {
    "collapsed": true
   },
   "outputs": [],
   "source": [
    "import numpy as np\n",
    "Q = np.zeros([env.observation_space.n, env.action_space.n])"
   ]
  },
  {
   "cell_type": "code",
   "execution_count": 18,
   "metadata": {
    "collapsed": true
   },
   "outputs": [],
   "source": [
    "G = 0"
   ]
  },
  {
   "cell_type": "code",
   "execution_count": 19,
   "metadata": {
    "collapsed": true
   },
   "outputs": [],
   "source": [
    "alpha = 0.618"
   ]
  },
  {
   "cell_type": "code",
   "execution_count": 20,
   "metadata": {},
   "outputs": [
    {
     "name": "stdout",
     "output_type": "stream",
     "text": [
      "Episode 50 Total Reward: -116\n",
      "Episode 100 Total Reward: -25\n",
      "Episode 150 Total Reward: -29\n",
      "Episode 200 Total Reward: -19\n",
      "Episode 250 Total Reward: -1\n",
      "Episode 300 Total Reward: -19\n",
      "Episode 350 Total Reward: 10\n",
      "Episode 400 Total Reward: 10\n",
      "Episode 450 Total Reward: 2\n",
      "Episode 500 Total Reward: 12\n",
      "Episode 550 Total Reward: 5\n",
      "Episode 600 Total Reward: 7\n",
      "Episode 650 Total Reward: 14\n",
      "Episode 700 Total Reward: 4\n",
      "Episode 750 Total Reward: 10\n",
      "Episode 800 Total Reward: 7\n",
      "Episode 850 Total Reward: 12\n",
      "Episode 900 Total Reward: 9\n",
      "Episode 950 Total Reward: 2\n",
      "Episode 1000 Total Reward: 11\n"
     ]
    }
   ],
   "source": [
    "for episode in range(1,1001):\n",
    "    done = False\n",
    "    G, reward = 0,0\n",
    "    state = env.reset()\n",
    "    while done != True:\n",
    "            action = np.argmax(Q[state]) #1\n",
    "            state2, reward, done, info = env.step(action) #2\n",
    "            Q[state,action] += alpha * (reward + np.max(Q[state2]) - Q[state,action]) #3\n",
    "            G += reward\n",
    "            state = state2   \n",
    "    if episode % 50 == 0:\n",
    "        print('Episode {} Total Reward: {}'.format(episode,G))"
   ]
  },
  {
   "cell_type": "code",
   "execution_count": 26,
   "metadata": {},
   "outputs": [
    {
     "name": "stdout",
     "output_type": "stream",
     "text": [
      "Requirement already satisfied (use --upgrade to upgrade): gym[atari] in /gpfs/global_fs01/sym_shared/YPProdSpark/user/sb20-dfe729c467cbbc-4f5e25900f32/.local/lib/python3.5/site-packages\n",
      "Requirement already satisfied (use --upgrade to upgrade): pyglet>=1.2.0 in /gpfs/global_fs01/sym_shared/YPProdSpark/user/sb20-dfe729c467cbbc-4f5e25900f32/.local/lib/python3.5/site-packages (from gym[atari])\n",
      "Requirement already satisfied (use --upgrade to upgrade): numpy>=1.10.4 in /usr/local/src/conda3_runtime.v22/4.1.1/lib/python3.5/site-packages (from gym[atari])\n",
      "Requirement already satisfied (use --upgrade to upgrade): six in /usr/local/src/conda3_runtime.v22/4.1.1/lib/python3.5/site-packages (from gym[atari])\n",
      "Requirement already satisfied (use --upgrade to upgrade): requests>=2.0 in /usr/local/src/conda3_runtime.v22/4.1.1/lib/python3.5/site-packages (from gym[atari])\n",
      "Requirement already satisfied (use --upgrade to upgrade): Pillow; extra == \"atari\" in /usr/local/src/conda3_runtime.v22/4.1.1/lib/python3.5/site-packages (from gym[atari])\n",
      "Requirement already satisfied (use --upgrade to upgrade): atari-py>=0.1.1; extra == \"atari\" in /gpfs/global_fs01/sym_shared/YPProdSpark/user/sb20-dfe729c467cbbc-4f5e25900f32/.local/lib/python3.5/site-packages (from gym[atari])\n",
      "Requirement already satisfied (use --upgrade to upgrade): PyOpenGL; extra == \"atari\" in /gpfs/global_fs01/sym_shared/YPProdSpark/user/sb20-dfe729c467cbbc-4f5e25900f32/.local/lib/python3.5/site-packages (from gym[atari])\n",
      "Requirement already satisfied (use --upgrade to upgrade): future in /usr/local/src/conda3_runtime.v22/4.1.1/lib/python3.5/site-packages (from pyglet>=1.2.0->gym[atari])\n",
      "Requirement already satisfied (use --upgrade to upgrade): PyOpenGL in /gpfs/global_fs01/sym_shared/YPProdSpark/user/sb20-dfe729c467cbbc-4f5e25900f32/.local/lib/python3.5/site-packages\n"
     ]
    }
   ],
   "source": [
    "!pip install gym[atari]\n",
    "!pip install PyOpenGL"
   ]
  },
  {
   "cell_type": "code",
   "execution_count": 31,
   "metadata": {},
   "outputs": [
    {
     "data": {
      "text/plain": [
       "<matplotlib.image.AxesImage at 0x7f5a0121ec18>"
      ]
     },
     "execution_count": 31,
     "metadata": {},
     "output_type": "execute_result"
    },
    {
     "data": {
      "image/png": "[encoded data removed]",
      "text/plain": [
       "<matplotlib.figure.Figure at 0x7f59d08b8fd0>"
      ]
     },
     "metadata": {},
     "output_type": "display_data"
    }
   ],
   "source": [
    "import gym\n",
    "import matplotlib.pyplot as plt\n",
    "%matplotlib inline\n",
    "\n",
    "env = gym.make(\"MsPacman-v0\")\n",
    "render = lambda : plt.imshow(env.render(mode='rgb_array'))\n",
    "env.reset()\n",
    "render()\n"
   ]
  },
  {
   "cell_type": "code",
   "execution_count": 32,
   "metadata": {},
   "outputs": [
    {
     "data": {
      "text/plain": [
       "9"
      ]
     },
     "execution_count": 32,
     "metadata": {},
     "output_type": "execute_result"
    }
   ],
   "source": [
    "env.action_space.n"
   ]
  },
  {
   "cell_type": "code",
   "execution_count": 33,
   "metadata": {},
   "outputs": [
    {
     "data": {
      "text/plain": [
       "['NOOP',\n",
       " 'UP',\n",
       " 'RIGHT',\n",
       " 'LEFT',\n",
       " 'DOWN',\n",
       " 'UPRIGHT',\n",
       " 'UPLEFT',\n",
       " 'DOWNRIGHT',\n",
       " 'DOWNLEFT']"
      ]
     },
     "execution_count": 33,
     "metadata": {},
     "output_type": "execute_result"
    }
   ],
   "source": [
    "env.env.get_action_meanings()"
   ]
  },
  {
   "cell_type": "code",
   "execution_count": 35,
   "metadata": {},
   "outputs": [
    {
     "data": {
      "image/png": "[encoded data removed]",
      "text/plain": [
       "<matplotlib.figure.Figure at 0x7f59d087d8d0>"
      ]
     },
     "metadata": {},
     "output_type": "display_data"
    }
   ],
   "source": [
    "state = env.reset()\n",
    "reward, info, done = None, None, None\n",
    "while done != True:\n",
    "    state, reward, done, info = env.step(env.action_space.sample())\n",
    "    render()"
   ]
  },
  {
   "cell_type": "code",
   "execution_count": 38,
   "metadata": {},
   "outputs": [
    {
     "name": "stdout",
     "output_type": "stream",
     "text": [
      "core.10052  core.26423  core.5005       Task2_Train.csv\r\n",
      "core.12278  core.32376  Task2.csv       Twitter_Data_Analyzed.csv\r\n",
      "core.23015  core.33165  Task2_Test.csv  Twitter_Data.csv\r\n"
     ]
    }
   ],
   "source": [
    "%cat tw"
   ]
  },
  {
   "cell_type": "code",
   "execution_count": null,
   "metadata": {
    "collapsed": true
   },
   "outputs": [],
   "source": []
  }
 ],
 "metadata": {
  "kernelspec": {
   "display_name": "Python 3",
   "language": "python",
   "name": "python3"
  },
  "language_info": {
   "codemirror_mode": {
    "name": "ipython",
    "version": 3
   },
   "file_extension": ".py",
   "mimetype": "text/x-python",
   "name": "python",
   "nbconvert_exporter": "python",
   "pygments_lexer": "ipython3",
   "version": "3.6.2"
  }
 },
 "nbformat": 4,
 "nbformat_minor": 1
}
